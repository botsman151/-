{
 "cells": [
  {
   "cell_type": "code",
   "execution_count": 27,
   "id": "e128444f",
   "metadata": {},
   "outputs": [
    {
     "name": "stdout",
     "output_type": "stream",
     "text": [
      "https://news.mail.ru/ Умер спортивный комментатор Владимир Писаревский https://sportmail.ru/news/hockey/55113654/\n",
      "https://news.mail.ru/ Премьер Ирака заявил, что в стране победили террористов https://news.mail.ru/politics/55115177/\n",
      "https://news.mail.ru/ Умерла бывшая жена Высоцкого Людмила Абрамова https://news.mail.ru/incident/55112858/\n",
      "https://news.mail.ru/ ВСУ применили под Угледаром боеприпас с отравляющим веществом https://news.mail.ru/incident/55113017/\n",
      "https://news.mail.ru/ Артиллеристы уничтожили украинский «блуждающий миномет» https://news.mail.ru/incident/55112378/\n",
      "https://news.mail.ru/ Пропавшего в Турции футболиста Кристиана Атсу нашли мертвым https://sportmail.ru/news/football/55111965/\n",
      "https://news.mail.ru/ Дерипаска поддержал «неидеальное» решение по взносу в бюджет https://news.mail.ru/economics/55113200/\n",
      "https://news.mail.ru/ Украинские олигархи скрывают активы в Крыму, заявили власти https://news.mail.ru/politics/55111850/\n"
     ]
    }
   ],
   "source": [
    "from pprint import pprint\n",
    "from lxml import html\n",
    "import requests\n",
    "url = 'https://news.mail.ru/'\n",
    "response = requests.get(url)\n",
    "dom = html.fromstring(response.text)\n",
    "news_elements = dom.xpath(\"//ul[@data-module='TrackBlocks']/li[contains(@class, 'list__item')]/span\")\n",
    "for element in news_elements:\n",
    "    news_title = element.xpath(\"./a/text()\") [0]\n",
    "    news_links = element.xpath(\"./a/@href\") [0]\n",
    "    print(url, news_title, news_links)"
   ]
  },
  "metadata": {
  "kernelspec": {
   "display_name": "Python 3",
   "language": "python",
   "name": "python3"
  },
  "language_info": {
   "codemirror_mode": {
    "name": "ipython",
    "version": 3
   },
   "file_extension": ".py",
   "mimetype": "text/x-python",
   "name": "python",
   "nbconvert_exporter": "python",
   "pygments_lexer": "ipython3",
   "version": "3.6.7"
  }
 },
 "nbformat": 4,
 "nbformat_minor": 5
}
